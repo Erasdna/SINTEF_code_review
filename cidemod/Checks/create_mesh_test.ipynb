{
 "cells": [
  {
   "cell_type": "code",
   "execution_count": 3,
   "metadata": {},
   "outputs": [],
   "source": [
    "from cideMOD.mesh.create_mesh import create_mesh"
   ]
  },
  {
   "cell_type": "code",
   "execution_count": 4,
   "metadata": {},
   "outputs": [
    {
     "ename": "AttributeError",
     "evalue": "'dict' object has no attribute 'mode'",
     "output_type": "error",
     "traceback": [
      "\u001b[0;31m---------------------------------------------------------------------------\u001b[0m",
      "\u001b[0;31mAttributeError\u001b[0m                            Traceback (most recent call last)",
      "\u001b[1;32m/home/andreas/Documents/SINTEF_code_review/cidemod/Checks/create_mesh_test.ipynb Cell 2\u001b[0m in \u001b[0;36m<cell line: 1>\u001b[0;34m()\u001b[0m\n\u001b[0;32m----> <a href='vscode-notebook-cell:/home/andreas/Documents/SINTEF_code_review/cidemod/Checks/create_mesh_test.ipynb#W1sZmlsZQ%3D%3D?line=0'>1</a>\u001b[0m create_mesh(\u001b[39m'\u001b[39;49m\u001b[39mData/data_Chen_2020/params.json\u001b[39;49m\u001b[39m'\u001b[39;49m,\u001b[39m'\u001b[39;49m\u001b[39mP4D\u001b[39;49m\u001b[39m'\u001b[39;49m,\u001b[39m5\u001b[39;49m,\u001b[39m5\u001b[39;49m,\u001b[39m5\u001b[39;49m)\n",
      "File \u001b[0;32m~/.local/lib/python3.10/site-packages/cideMOD/mesh/create_mesh.py:40\u001b[0m, in \u001b[0;36mcreate_mesh\u001b[0;34m(file_path, mode, x, y, z)\u001b[0m\n\u001b[1;32m     32\u001b[0m options \u001b[39m=\u001b[39m {\n\u001b[1;32m     33\u001b[0m     \u001b[39m'\u001b[39m\u001b[39mmode\u001b[39m\u001b[39m'\u001b[39m: mode,\n\u001b[1;32m     34\u001b[0m     \u001b[39m'\u001b[39m\u001b[39mN_x\u001b[39m\u001b[39m'\u001b[39m: x,\n\u001b[1;32m     35\u001b[0m     \u001b[39m'\u001b[39m\u001b[39mN_y\u001b[39m\u001b[39m'\u001b[39m: y,\n\u001b[1;32m     36\u001b[0m     \u001b[39m'\u001b[39m\u001b[39mN_z\u001b[39m\u001b[39m'\u001b[39m: z,\n\u001b[1;32m     37\u001b[0m }\n\u001b[1;32m     39\u001b[0m cell \u001b[39m=\u001b[39m CellParser(\u001b[39mstr\u001b[39m(params\u001b[39m.\u001b[39mabsolute()),\u001b[39mstr\u001b[39m(params\u001b[39m.\u001b[39mparent\u001b[39m.\u001b[39mabsolute()), log\u001b[39m=\u001b[39m\u001b[39mFalse\u001b[39;00m)\n\u001b[0;32m---> 40\u001b[0m mesher \u001b[39m=\u001b[39m GmshMesher(options, cell)\n\u001b[1;32m     41\u001b[0m created \u001b[39m=\u001b[39m mesher\u001b[39m.\u001b[39mprepare_mesh()\n\u001b[1;32m     42\u001b[0m \u001b[39mif\u001b[39;00m created:\n",
      "File \u001b[0;32m~/.local/lib/python3.10/site-packages/cideMOD/mesh/base_mesher.py:183\u001b[0m, in \u001b[0;36mBaseMesher.__init__\u001b[0;34m(self, options, cell)\u001b[0m\n\u001b[1;32m    181\u001b[0m \u001b[39mself\u001b[39m\u001b[39m.\u001b[39moptions \u001b[39m=\u001b[39m options\n\u001b[1;32m    182\u001b[0m \u001b[39mself\u001b[39m\u001b[39m.\u001b[39mcell \u001b[39m=\u001b[39m cell\n\u001b[0;32m--> 183\u001b[0m \u001b[39mself\u001b[39m\u001b[39m.\u001b[39mmode \u001b[39m=\u001b[39m \u001b[39mself\u001b[39;49m\u001b[39m.\u001b[39;49moptions\u001b[39m.\u001b[39;49mmode\n\u001b[1;32m    184\u001b[0m \u001b[39mself\u001b[39m\u001b[39m.\u001b[39mstructure \u001b[39m=\u001b[39m cell\u001b[39m.\u001b[39mstructure\n\u001b[1;32m    185\u001b[0m \u001b[39mself\u001b[39m\u001b[39m.\u001b[39mnum_components \u001b[39m=\u001b[39m \u001b[39mlen\u001b[39m(\u001b[39mself\u001b[39m\u001b[39m.\u001b[39mstructure)\n",
      "\u001b[0;31mAttributeError\u001b[0m: 'dict' object has no attribute 'mode'"
     ]
    }
   ],
   "source": [
    "create_mesh('Data/data_Chen_2020/params.json','P4D',5,5,5)"
   ]
  }
 ],
 "metadata": {
  "kernelspec": {
   "display_name": "Python 3.10.4 64-bit",
   "language": "python",
   "name": "python3"
  },
  "language_info": {
   "codemirror_mode": {
    "name": "ipython",
    "version": 3
   },
   "file_extension": ".py",
   "mimetype": "text/x-python",
   "name": "python",
   "nbconvert_exporter": "python",
   "pygments_lexer": "ipython3",
   "version": "3.10.4"
  },
  "orig_nbformat": 4,
  "vscode": {
   "interpreter": {
    "hash": "916dbcbb3f70747c44a77c7bcd40155683ae19c65e1c03b4aa3499c5328201f1"
   }
  }
 },
 "nbformat": 4,
 "nbformat_minor": 2
}
