{
 "cells": [
  {
   "cell_type": "markdown",
   "metadata": {},
   "source": [
    "Importing necessary files, setting up initial values and model options, importing data from Chen data set"
   ]
  },
  {
   "cell_type": "code",
   "execution_count": 25,
   "metadata": {},
   "outputs": [
    {
     "data": {
      "text/plain": [
       "'/home/andreas/Documents/SINTEF_code_review/cidemod/Checks/Cylinder'"
      ]
     },
     "execution_count": 25,
     "metadata": {},
     "output_type": "execute_result"
    }
   ],
   "source": [
    "import os\n",
    "os.getcwd()"
   ]
  },
  {
   "cell_type": "code",
   "execution_count": 1,
   "metadata": {},
   "outputs": [
    {
     "name": "stdout",
     "output_type": "stream",
     "text": [
      "Capacidad Anodo: 5.090421993425188\n",
      "Capacidad Catodo: 5.574712396434605\n",
      "Capacidad Celda: 5.090421993425188\n"
     ]
    }
   ],
   "source": [
    "from cideMOD import (\n",
    "    CellParser,\n",
    "    Problem,\n",
    "    SolverCrashed,\n",
    "    Trigger,\n",
    "    ModelOptions,\n",
    ")\n",
    "\n",
    "import numpy as np\n",
    "import os\n",
    "import matplotlib.pyplot as plt\n",
    "os.getcwd()\n",
    "#Define Chen path\n",
    "overwrite = True\n",
    "case = \"Chen_2020\"\n",
    "data_path = \"../Data/data_{}\".format(case)\n",
    "params = \"params_tuned.json\"\n",
    "\n",
    "C_rate = -1\n",
    "I_app = -5*pi*r*r #C_rate * problem.Q\n",
    "t_f = 3600 /abs(C_rate)*1.25\n",
    "v_min = Trigger(2.5, \"v\")\n",
    "#P4D modell\n",
    "#Vi setter i=5 for å se om vi får noe nyttig\n",
    "i=8\n",
    "model_options = ModelOptions(mode='P4D', clean_on_exit=False,N_x=i,N_y=i,N_z=i)\n",
    "cell = CellParser(params, data_path=data_path)"
   ]
  },
  {
   "cell_type": "markdown",
   "metadata": {},
   "source": [
    "Define problem with cylindrical option"
   ]
  },
  {
   "cell_type": "code",
   "execution_count": 5,
   "metadata": {},
   "outputs": [
    {
     "name": "stdout",
     "output_type": "stream",
     "text": [
      "Building simple cylindrical mesh from cylinder_3.xml\n",
      "Actually the cylinder!\n",
      "Finished building cylinder mesh\n",
      "Building problem setup\n",
      " - Build cell parameters - Done \n",
      " - Initializing state - Done \n",
      " - Build variational formulation - Done \n",
      "Problem Setup finished.\n",
      "Problem has 13224.0 dofs.\n",
      "\n"
     ]
    }
   ],
   "source": [
    "cyl = Problem(cell, model_options)\n",
    "cyl.set_cell_state(1, 273 + 25, 273 + 25)\n",
    "cyl.setup(mesh_engine=\"Cylinder\") #OBS Cylinder reads thr cylinder_3.xml file in the LOCAL repo\n"
   ]
  },
  {
   "cell_type": "markdown",
   "metadata": {},
   "source": [
    "Define default problem mesh for comparison"
   ]
  },
  {
   "cell_type": "code",
   "execution_count": 2,
   "metadata": {},
   "outputs": [
    {
     "name": "stdout",
     "output_type": "stream",
     "text": [
      "Building mesh for P4D problem with 3 components and 1536 nodes.\n",
      "Finished building mesh\n",
      "Building problem setup\n",
      " - Build cell parameters - Done \n",
      " - Initializing state - Done \n",
      " - Build variational formulation - Done \n",
      "Problem Setup finished.\n",
      "Problem has 9964.0 dofs.\n",
      "\n"
     ]
    }
   ],
   "source": [
    "normal = Problem(cell, model_options)\n",
    "normal.set_cell_state(1, 273 + 25, 273 + 25)\n",
    "normal.setup() #OBS Cylinder reads thr cylinder_3.xml file in the LOCAL repo\n"
   ]
  },
  {
   "cell_type": "code",
   "execution_count": 7,
   "metadata": {},
   "outputs": [
    {
     "name": "stdout",
     "output_type": "stream",
     "text": [
      "Solving ...\n",
      "initializing solution\n",
      "Voltage is 2.5 V at 3554.15 s \u001b[K0\tTime: 58min 48s\u001b[K\n",
      "\n",
      "Voltage: 2.5008\tCurrent: -5.00e+00\tTime: 59min 14s\u001b[K\r"
     ]
    }
   ],
   "source": [
    "status = normal.solve_ie(\n",
    "    min_step=36, i_app=I_app, t_f=t_f, store_delay=10, adaptive=True, triggers=[v_min]\n",
    ")"
   ]
  },
  {
   "cell_type": "code",
   "execution_count": 8,
   "metadata": {},
   "outputs": [
    {
     "name": "stdout",
     "output_type": "stream",
     "text": [
      "None\n",
      "[MPI_AVG] Summary of timings                 |   reps    wall avg    wall tot     usr avg  usr tot\n",
      "--------------------------------------------------------------------------------------------------\n",
      "Adaptive TS                                  |    111      10.827      1201.8      10.814   1200.3\n",
      "Apply (PETScMatrix)                          |   1307  9.4563e-06    0.012359  7.6511e-06     0.01\n",
      "Apply (PETScVector)                          |  17974  5.1477e-06    0.092525  8.3454e-06     0.15\n",
      "Assemble cells                               |  18004    0.034133      614.53     0.03411   614.11\n",
      "Assemble exterior facets                     |   3112  0.00063197      1.9667   0.0006491     2.02\n",
      "Assemble system                              |      8     0.01747     0.13976      0.0175     0.14\n",
      "Basic TS                                     |    113      10.719      1211.2      10.706   1209.8\n",
      "Build BoxMesh                                |      2   0.0012114   0.0024227           0        0\n",
      "Build SubdomainMapper                        |      3    0.079194     0.23758        0.08     0.24\n",
      "Build sparsity                               |     20    0.062323      1.2465      0.0625     1.25\n",
      "Building function space                      |      3     0.73796      2.2139     0.71667     2.15\n",
      "Building mesh                                |      2     0.22557     0.45115         0.2      0.4\n",
      "Compute SCOTCH graph re-ordering             |     20  0.00043348   0.0086695      0.0005     0.01\n",
      "Compute connectivity 0-2                     |      3   0.0016143   0.0048428           0        0\n",
      "Compute connectivity 0-3                     |      3  0.00087994   0.0026398   0.0033333     0.01\n",
      "Compute connectivity 1-2                     |      3    0.019921    0.059763        0.02     0.06\n",
      "Compute connectivity 2-1                     |      3    0.018207    0.054621        0.02     0.06\n",
      "Compute connectivity 2-3                     |      3   0.0013922   0.0041767           0        0\n",
      "Compute connectivity 3-3                     |      3   0.0018416   0.0055248           0        0\n",
      "Compute entities dim = 1                     |      3    0.018901    0.056703        0.02     0.06\n",
      "Compute entities dim = 2                     |      3    0.013347    0.040041    0.013333     0.04\n",
      "Constant TS                                  |      2      8.2736      16.547        8.25     16.5\n",
      "Delete sparsity                              |     20   2.198e-06   4.396e-05           0        0\n",
      "DirichletBC apply                            |   1139  0.00023739     0.27039  0.00027217     0.31\n",
      "DirichletBC compute bc                       |   1916  0.00011648     0.22317   0.0001357     0.26\n",
      "DirichletBC init facets                      |   1916  2.5435e-06   0.0048733  5.2192e-06     0.01\n",
      "DistributedMeshTools: reorder vertex values  |     12  0.00037241   0.0044689           0        0\n",
      "Init dof vector                              |    161  0.00016409    0.026418           0        0\n",
      "Init dofmap                                  |     20   0.0078407     0.15681      0.0075     0.15\n",
      "Init dofmap from UFC dofmap                  |     20   0.0018864    0.037728      0.0015     0.03\n",
      "Init tensor                                  |     20  0.00051643    0.010329           0        0\n",
      "LU solver                                    |      8    0.056773     0.45419     0.05625     0.45\n",
      "Number distributed mesh entities             |     29   1.642e-05  0.00047619           0        0\n",
      "PETSc Krylov solver                          |      8    0.056697     0.45357     0.05625     0.45\n",
      "Problem Setup                                |      3      8.9323      26.797      8.8467    26.54\n",
      "SCOTCH: call SCOTCH_graphBuild               |     20  1.0287e-05  0.00020573           0        0\n",
      "SCOTCH: call SCOTCH_graphOrder               |     20  0.00028935   0.0057871      0.0005     0.01\n",
      "SNES solver execution                        |    116      10.524      1220.7      10.511   1219.3\n",
      "SNES solver init                             |    116    0.050467      5.8542    0.050517     5.86\n",
      "Simulation time                              |      1      903.11      903.11       902.2    902.2\n",
      "Solving linear system                        |      8    0.057015     0.45612     0.05625     0.45\n",
      "Store Globals                                |    113   0.0041295     0.46663   0.0041593     0.47\n",
      "TF Error                                     |    111    0.008365     0.92851   0.0074775     0.83\n",
      "smt                                          |      1  0.00012348  0.00012348           0        0\n"
     ]
    }
   ],
   "source": [
    "from dolfin import Timer,timings,timing, list_timings, TimingClear, TimingType\n",
    "\n",
    "print(list_timings(TimingClear.keep, [TimingType.wall, TimingType.user]))"
   ]
  },
  {
   "cell_type": "code",
   "execution_count": 9,
   "metadata": {},
   "outputs": [
    {
     "name": "stdout",
     "output_type": "stream",
     "text": [
      "Solving ...\n",
      "initializing solution\n",
      "Voltage is 2.5 V at 3024.00 s \u001b[K0\tTime: 49min 48s\u001b[K\n",
      "\n",
      "None[MPI_AVG] Summary of timings                 |   reps    wall avg    wall tot     usr avg  usr tot\n",
      "--------------------------------------------------------------------------------------------------\n",
      "Adaptive TS                                  |    196      11.291      2213.1      11.283   2211.5\n",
      "Apply (PETScMatrix)                          |   2226  8.5458e-06    0.019023  4.4924e-06     0.01\n",
      "Apply (PETScVector)                          |  30713  5.2683e-06     0.16181  6.5119e-06      0.2\n",
      "Assemble cells                               |  30798    0.037797      1164.1    0.037787   1163.8\n",
      "Assemble exterior facets                     |   5349  0.00071672      3.8337  0.00073285     3.92\n",
      "Assemble system                              |     10    0.018851     0.18851       0.019     0.19\n",
      "Basic TS                                     |    198      11.183      2214.1      11.176   2212.8\n",
      "Build BoxMesh                                |      2   0.0012114   0.0024227           0        0\n",
      "Build Subd\n",
      "omainMapper                        |      3    0.079194     0.23758        0.08     0.24\n",
      "Build sparsity                               |     26    0.071583      1.8612    0.071154     1.85\n",
      "Building function space                      |      3     0.73796      2.2139     0.71667     2.15\n",
      "Building mesh                                |      2     0.22557     0.45115         0.2      0.4\n",
      "Compute SCOTCH graph re-ordering             |     22  0.00047524    0.010455  0.00045455     0.01\n",
      "Compute connectivity 0-2                     |      3   0.0016143   0.0048428           0        0\n",
      "Compute connectivity 0-3                     |      3  0.00087994   0.0026398   0.0033333     0.01\n",
      "Compute connectivity 1-2                     |      3    0.019921    0.059763        0.02     0.06\n",
      "Compute connectivity 2-1                     |      3    0.018207    0.054621        0.02     0.06\n",
      "Compute connectivity 2-3                     |      3   0.0013922   0.0041767           0        0\n",
      "Compute connectivity 3-3                     |      3   0.0018416   0.0055248           0        0\n",
      "Compute entities dim = 1                     |      3    0.018901    0.056703        0.02     0.06\n",
      "Compute entities dim = 2                     |      3    0.013347    0.040041    0.013333     0.04\n",
      "Constant TS                                  |      2      8.2736      16.547        8.25     16.5\n",
      "Delete sparsity                              |     26  2.1604e-06  5.6171e-05           0        0\n",
      "DirichletBC apply                            |   1951   0.0002568     0.50102  0.00025628      0.5\n",
      "DirichletBC compute bc                       |   3277  0.00013347     0.43738  0.00014648     0.48\n",
      "DirichletBC init facets                      |   3277  2.5505e-06   0.0083581  3.0516e-06     0.01\n",
      "DistributedMeshTools: reorder vertex values  |     12  0.00037241   0.0044689           0        0\n",
      "Init dof vector                              |    163  0.00016498    0.026892           0        0\n",
      "Init dofmap                                  |     22   0.0082955      0.1825   0.0077273     0.17\n",
      "Init dofmap from UFC dofmap                  |     22   0.0019132    0.042091   0.0013636     0.03\n",
      "Init tensor                                  |     26  0.00054444    0.014155           0        0\n",
      "LU solver                                    |     10    0.055158     0.55158       0.054     0.54\n",
      "Number distributed mesh entities             |     31  1.5517e-05  0.00048104           0        0\n",
      "PETSc Krylov solver                          |     10    0.055081     0.55081       0.054     0.54\n",
      "Problem Setup                                |      3      8.9323      26.797      8.8467    26.54\n",
      "SCOTCH: call SCOTCH_graphBuild               |     22  1.0044e-05  0.00022098           0        0\n",
      "SCOTCH: call SCOTCH_graphOrder               |     22  0.00032362   0.0071197  0.00045455     0.01\n",
      "SNES solver execution                        |    202      11.008      2223.5          11   2222.1\n",
      "SNES solver init                             |    202    0.043301      8.7468    0.043218     8.73\n",
      "Simulation time                              |      2      957.25      1914.5      956.77   1913.5\n",
      "Solving linear system                        |     10    0.055382     0.55382       0.054     0.54\n",
      "Store Globals                                |    199   0.0042271      0.8412   0.0042211     0.84\n",
      "TF Error                                     |    196   0.0084766      1.6614      0.0075     1.47\n",
      "smt                                          |      1  0.00012348  0.00012348           0        0\n"
     ]
    }
   ],
   "source": [
    "status = cyl.solve_ie(\n",
    "    min_step=36, i_app=I_app, t_f=t_f, store_delay=10, adaptive=True, triggers=[v_min]\n",
    ")\n",
    "print(list_timings(TimingClear.keep, [TimingType.wall, TimingType.user]))"
   ]
  },
  {
   "cell_type": "code",
   "execution_count": 11,
   "metadata": {},
   "outputs": [
    {
     "data": {
      "text/plain": [
       "Text(0, 0.5, 'Voltage')"
      ]
     },
     "execution_count": 11,
     "metadata": {},
     "output_type": "execute_result"
    },
    {
     "data": {
      "image/png": "[encoded data removed]",
      "text/plain": [
       "<Figure size 1100x800 with 1 Axes>"
      ]
     },
     "metadata": {
      "needs_background": "light"
     },
     "output_type": "display_data"
    }
   ],
   "source": [
    "plt.rc('text', usetex=False)\n",
    "plt.rc('font', family='serif')\n",
    "# fig, (ax1, ax2) = plt.subplots(1, 2, figsize=(13, 4))\n",
    "fig, ax1 = plt.subplots(1, 1, figsize=(5.5, 4), dpi=200)\n",
    "# plot voltage vs tid\n",
    "ax1.plot(cyl.WH.global_var_arrays[0], cyl.WH.global_var_arrays[1], \"-.\")\n",
    "ax1.plot(normal.WH.global_var_arrays[0], normal.WH.global_var_arrays[1], \"-.\")\n",
    "ax1.legend([\"Cylinder\", \"Box\"], loc=\"best\")\n",
    "ax1.set_xlabel(\"Time\")\n",
    "ax1.set_ylabel(\"Voltage\")\n"
   ]
  },
  {
   "cell_type": "code",
   "execution_count": 3,
   "metadata": {},
   "outputs": [
    {
     "name": "stderr",
     "output_type": "stream",
     "text": [
      "49.09s - Error inserting pydevd breaks.\n",
      "Traceback (most recent call last):\n",
      "  File \"/home/andreas/.local/lib/python3.10/site-packages/debugpy/_vendored/pydevd/_pydevd_frame_eval/pydevd_modify_bytecode.py\", line 328, in insert_pydevd_breaks\n",
      "    for new_instruction in get_instructions_to_add(\n",
      "  File \"/home/andreas/.local/lib/python3.10/site-packages/debugpy/_vendored/pydevd/_pydevd_frame_eval/pydevd_modify_bytecode.py\", line 102, in get_instructions_to_add\n",
      "    Instr(\"LOAD_CONST\", _pydev_stop_at_break, lineno=stop_at_line - 1),\n",
      "  File \"/home/andreas/.local/lib/python3.10/site-packages/debugpy/_vendored/pydevd/_pydevd_frame_eval/vendored/bytecode/instr.py\", line 171, in __init__\n",
      "    self._set(name, arg, lineno)\n",
      "  File \"/home/andreas/.local/lib/python3.10/site-packages/debugpy/_vendored/pydevd/_pydevd_frame_eval/vendored/bytecode/instr.py\", line 239, in _set\n",
      "    _check_lineno(lineno)\n",
      "  File \"/home/andreas/.local/lib/python3.10/site-packages/debugpy/_vendored/pydevd/_pydevd_frame_eval/vendored/bytecode/instr.py\", line 74, in _check_lineno\n",
      "    raise ValueError(\"invalid lineno\")\n",
      "ValueError: invalid lineno\n"
     ]
    },
    {
     "name": "stdout",
     "output_type": "stream",
     "text": [
      "Solving ...\n",
      "initializing solution\n",
      "Voltage: 2.5049\tCurrent: -5.00e+00\tTime: 58min 48s\u001b[K\r"
     ]
    }
   ],
   "source": [
    "status = normal.solve_ie(\n",
    "    min_step=36, i_app=I_app, t_f=t_f, store_delay=10, adaptive=True, triggers=[v_min]\n",
    ")"
   ]
  },
  {
   "cell_type": "code",
   "execution_count": 18,
   "metadata": {},
   "outputs": [
    {
     "name": "stdout",
     "output_type": "stream",
     "text": [
      "None[MPI_AVG] Summary of timings                 |   reps    wall avg    wall tot     usr avg  usr tot\n",
      "--------------------------------------------------------------------------------------------------\n",
      "Adaptive TS                                  |    202      12.114        2447      12.104   2445.1\n",
      "Apply (PETScMatrix)                          |   3112  7.7139e-06    0.024006  6.4267e-06     0.02\n",
      "Apply (PETScVector)                          |  39020  5.3694e-06     0.20952  5.8944e-06     0.23\n",
      "Assemble cells                               |  41718    0.033697      1405.8    0.033689   1405.4\n",
      "Assemble exterior facets                     |   7063  0.00068746      4.8555  0.00070508     4.98\n",
      "Assemble system                              |     20    0.016103     0.32206       0.016     0.32\n",
      "Basic TS                                     |    212      12.606      2672.6        12.6   2671.3\n",
      "Build BoxMesh                                |      2   0.0012114   0.0024227           0        0\n",
      "Build Subd\n",
      "omainMapper                        |      3    0.079194     0.23758        0.08     0.24\n",
      "Build sparsity                               |     46    0.041188      1.8946    0.041087     1.89\n",
      "Building function space                      |      3     0.73796      2.2139     0.71667     2.15\n",
      "Building mesh                                |      2     0.22557     0.45115         0.2      0.4\n",
      "Compute SCOTCH graph re-ordering             |     32  0.00043778    0.014009   0.0003125     0.01\n",
      "Compute connectivity 0-2                     |      3   0.0016143   0.0048428           0        0\n",
      "Compute connectivity 0-3                     |      3  0.00087994   0.0026398   0.0033333     0.01\n",
      "Compute connectivity 1-2                     |      3    0.019921    0.059763        0.02     0.06\n",
      "Compute connectivity 2-1                     |      3    0.018207    0.054621        0.02     0.06\n",
      "Compute connectivity 2-3                     |      3   0.0013922   0.0041767           0        0\n",
      "Compute connectivity 3-3                     |      3   0.0018416   0.0055248           0        0\n",
      "Compute entities dim = 1                     |      3    0.018901    0.056703        0.02     0.06\n",
      "Compute entities dim = 2                     |      3    0.013347    0.040041    0.013333     0.04\n",
      "Constant TS                                  |      7      6.6156      46.309      6.6014    46.21\n",
      "Delete sparsity                              |     46  2.3568e-06  0.00010842           0        0\n",
      "DirichletBC apply                            |   2684  0.00024703     0.66302  0.00023472     0.63\n",
      "DirichletBC compute bc                       |   4535  0.00012755     0.57843  0.00012348     0.56\n",
      "DirichletBC init facets                      |   4535  2.6471e-06    0.012005  2.2051e-06     0.01\n",
      "DistributedMeshTools: reorder vertex values  |     12  0.00037241   0.0044689           0        0\n",
      "Init dof vector                              |    173  0.00016516    0.028573           0        0\n",
      "Init dofmap                                  |     32   0.0077842      0.2491      0.0075     0.24\n",
      "Init dofmap from UFC dofmap                  |     32    0.001804    0.057729   0.0015625     0.05\n",
      "Init tensor                                  |     46  0.00038056    0.017506           0        0\n",
      "LU solver                                    |     20    0.043046     0.86092       0.041     0.82\n",
      "Number distributed mesh entities             |     41  1.2391e-05  0.00050803           0        0\n",
      "PETSc Krylov solver                          |     20    0.042979     0.85957       0.041     0.82\n",
      "Problem Setup                                |      3      8.9323      26.797      8.8467    26.54\n",
      "SCOTCH: call SCOTCH_graphBuild               |     32  8.9138e-06  0.00028524           0        0\n",
      "SCOTCH: call SCOTCH_graphOrder               |     32  0.00028943   0.0092618   0.0003125     0.01\n",
      "SNES solver execution                        |    221      12.195        2695      12.188   2693.6\n",
      "SNES solver init                             |    221     0.03959      8.7495    0.039502     8.73\n",
      "Simulation time                              |      7      339.06      2373.5      338.93   2372.5\n",
      "Solving linear system                        |     20    0.043224     0.86448      0.0415     0.83\n",
      "Store Globals                                |    211   0.0043727     0.92263    0.004455     0.94\n",
      "TF Error                                     |    202   0.0084812      1.7132   0.0074257      1.5\n",
      "smt                                          |      1  0.00012348  0.00012348           0        0\n"
     ]
    }
   ],
   "source": [
    "print(list_timings(TimingClear.keep, [TimingType.wall, TimingType.user]))"
   ]
  }
 ],
 "metadata": {
  "kernelspec": {
   "display_name": "Python 3.10.4 64-bit",
   "language": "python",
   "name": "python3"
  },
  "language_info": {
   "codemirror_mode": {
    "name": "ipython",
    "version": 3
   },
   "file_extension": ".py",
   "mimetype": "text/x-python",
   "name": "python",
   "nbconvert_exporter": "python",
   "pygments_lexer": "ipython3",
   "version": "3.10.4"
  },
  "orig_nbformat": 4,
  "vscode": {
   "interpreter": {
    "hash": "916dbcbb3f70747c44a77c7bcd40155683ae19c65e1c03b4aa3499c5328201f1"
   }
  }
 },
 "nbformat": 4,
 "nbformat_minor": 2
}
